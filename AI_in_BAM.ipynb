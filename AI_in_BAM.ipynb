{
 "cells": [
  {
   "cell_type": "code",
   "execution_count": 2,
   "metadata": {
    "id": "isA19c4KLmgX"
   },
   "outputs": [
    {
     "name": "stdout",
     "output_type": "stream",
     "text": [
      "[[  1.   1.   6. ...   0.   0.   0.]\n",
      " [  2.   1.   1. ...   0.   0.   0.]\n",
      " [  3.   2.  16. ...   0.   0.   0.]\n",
      " ...\n",
      " [108.  11.   6. ...   0.   0.   1.]\n",
      " [109.  12.   2. ...   0.   0.   1.]\n",
      " [110.  12.  20. ...   0.   0.   1.]]\n",
      "[2 2 2 2 2 2 2 2 2 2 2 2 2 2 2 2 5 5 5 5 5 2 7 7 7 7 7 7 7 7 6 7 6 6 6 6 6\n",
      " 6 6 6 6 6 6 6 6 6 6 0 0 0 0 0 0 0 0 0 0 0 0 0 0 0 3 3 3 3 3 3 3 0 3 3 3 1\n",
      " 3 3 1 3 3 1 3 3 3 1 1 1 1 1 1 1 1 1 1 1 1 1 4 4 4 4 4 4 4 4 4 4 4 4 4 4]\n"
     ]
    },
    {
     "data": {
      "image/png": "[encoded data removed]",
      "text/plain": [
       "<Figure size 432x288 with 1 Axes>"
      ]
     },
     "metadata": {
      "needs_background": "light"
     },
     "output_type": "display_data"
    }
   ],
   "source": [
    "import matplotlib.pyplot as plt\n",
    "from sklearn.cluster import KMeans\n",
    "from sklearn.decomposition import PCA\n",
    "import numpy as np\n",
    "from numpy import loadtxt \n",
    "#from sklearn.metrics import silhoutte_score\n",
    "\n",
    "file = open('/Users/kakuyonmataeh/IWcode/IW_CSV.csv', 'rb')\n",
    "data = loadtxt(file,delimiter = \",\")\n",
    "#test\n",
    "print(data)\n",
    "\n",
    "\n",
    "pca = PCA(2)\n",
    "#transform data using Principal Component Analysis\n",
    "df = pca.fit_transform(data)\n",
    "df.shape\n",
    "#number of clusters for kmeans is number of labels\n",
    "kmeans = KMeans(n_clusters= 8)\n",
    "#predict the label of clusters\n",
    "label = kmeans.fit_predict(df)\n",
    "print(label)\n",
    "\n",
    "\n",
    "#Getting unique labels of each cluster(0-7)\n",
    " \n",
    "u_labels = np.unique(label)\n",
    "#plotting the results:\n",
    " \n",
    "for i in u_labels:\n",
    "    plt.scatter(df[label == i , 0] , df[label == i , 1] , label = i)\n",
    "plt.legend()\n",
    "plt.show()\n"
   ]
  },
  {
   "cell_type": "code",
   "execution_count": null,
   "metadata": {},
   "outputs": [],
   "source": []
  },
  {
   "cell_type": "code",
   "execution_count": null,
   "metadata": {},
   "outputs": [],
   "source": []
  },
  {
   "cell_type": "code",
   "execution_count": null,
   "metadata": {},
   "outputs": [],
   "source": []
  },
  {
   "cell_type": "code",
   "execution_count": null,
   "metadata": {},
   "outputs": [],
   "source": []
  },
  {
   "cell_type": "code",
   "execution_count": null,
   "metadata": {},
   "outputs": [],
   "source": []
  },
  {
   "cell_type": "code",
   "execution_count": null,
   "metadata": {},
   "outputs": [],
   "source": []
  }
 ],
 "metadata": {
  "colab": {
   "name": "AI in BAM.ipynb",
   "provenance": []
  },
  "kernelspec": {
   "display_name": "Python 3 (ipykernel)",
   "language": "python",
   "name": "python3"
  },
  "language_info": {
   "codemirror_mode": {
    "name": "ipython",
    "version": 3
   },
   "file_extension": ".py",
   "mimetype": "text/x-python",
   "name": "python",
   "nbconvert_exporter": "python",
   "pygments_lexer": "ipython3",
   "version": "3.7.11"
  }
 },
 "nbformat": 4,
 "nbformat_minor": 2
}
